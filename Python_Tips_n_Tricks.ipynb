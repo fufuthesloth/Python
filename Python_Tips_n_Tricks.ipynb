{
  "metadata": {
    "language_info": {
      "codemirror_mode": {
        "name": "python",
        "version": 3
      },
      "file_extension": ".py",
      "mimetype": "text/x-python",
      "name": "python",
      "nbconvert_exporter": "python",
      "pygments_lexer": "ipython3",
      "version": "3.8"
    },
    "kernelspec": {
      "name": "python",
      "display_name": "Python (Pyodide)",
      "language": "python"
    }
  },
  "nbformat_minor": 4,
  "nbformat": 4,
  "cells": [
    {
      "cell_type": "markdown",
      "source": "# Python Tips & Tricks",
      "metadata": {}
    },
    {
      "cell_type": "markdown",
      "source": "### #1 - List Comprehensions",
      "metadata": {}
    },
    {
      "cell_type": "code",
      "source": "# Creating a new list including only even numbers from original list\n\nnumbers = [18, 16, 22, 99, 23, 11, 54]\n\n# Ver. 1 - For loop\n\neven_numbers_v1 = []\n\nfor number in numbers:\n    if number % 2 == 0:\n        even_numbers_v1.append(number)\n        \nprint(even_numbers_v1)\n\n# Ver. 2 - List Comprehension\n\neven_numbers_v2 = [number for number in numbers if number % 2 == 0] # Adding number for every number in list numbers if number is even\n\nprint(even_numbers_v2)",
      "metadata": {
        "trusted": true
      },
      "execution_count": 1,
      "outputs": [
        {
          "name": "stdout",
          "text": "[18, 16, 22, 54]\n[18, 16, 22, 54]\n",
          "output_type": "stream"
        }
      ]
    },
    {
      "cell_type": "code",
      "source": "# Creating a new list with powers of 2 of numbers from original list \n\nnumbers = [1, 2, 3, 4, 5, 6, 7]\n\n# Ver. 1 - Using original list\n\npowers_of_two_v1 = [2 ** x for x in numbers]\n\nprint(powers_of_two_v1)\n\n# Ver. 2 - Using range function\n\npowers_of_two_v2 = [2 ** x for x in range(1, 8)]\n\nprint(powers_of_two_v2)",
      "metadata": {
        "trusted": true
      },
      "execution_count": 2,
      "outputs": [
        {
          "name": "stdout",
          "text": "[2, 4, 8, 16, 32, 64, 128]\n[2, 4, 8, 16, 32, 64, 128]\n",
          "output_type": "stream"
        }
      ]
    },
    {
      "cell_type": "code",
      "source": "# Getring all the words starting with a and make them uppercase while all the other words remain lowercase\n\nwords = ['automobile', 'car', 'anger', 'fox', 'anchor']\n\nwords = [word.upper() if word.startswith('a') else word for word in words]\n\nprint(words)",
      "metadata": {
        "trusted": true
      },
      "execution_count": 3,
      "outputs": [
        {
          "name": "stdout",
          "text": "['AUTOMOBILE', 'car', 'ANGER', 'fox', 'ANCHOR']\n",
          "output_type": "stream"
        }
      ]
    },
    {
      "cell_type": "markdown",
      "source": "### #2 - F strings",
      "metadata": {}
    },
    {
      "cell_type": "code",
      "source": "# Printing the statement with gaps filled with variables name and age\n\nname = \"Mike\"\nage = 25\n\nprint(\"Hello my name is ... and I am ... years old!\")\n\n# Ver. 1 - Using + sign\n\nprint(\"Hello my name is \" + name + \" and I am \" + str(age) + \" years old!\")\n\n# Ver. 2 - Using % placeholer\n\nprint(\"Hello my name is %s and I am %d years old!\" % (name, age)) # Need to use correct data types when using placeholders\n\n# Ver. 3 - Using .format function\n\nprint(\"Hello my name is {} and I am {} years old!\".format(name, age))\n\n# Ver. 4 - Using f string\n\nprint(f\"Hello my name is {name} and I am {age} years old!\") # Can enter Python code in curly brackets",
      "metadata": {
        "trusted": true
      },
      "execution_count": 4,
      "outputs": [
        {
          "name": "stdout",
          "text": "Hello my name is ... and I am ... years old!\nHello my name is Mike and I am 25 years old!\nHello my name is Mike and I am 25 years old!\nHello my name is Mike and I am 25 years old!\nHello my name is Mike and I am 25 years old!\n",
          "output_type": "stream"
        }
      ]
    },
    {
      "cell_type": "code",
      "source": "# Specifying floating point in print statement\n\nmy_favorite_number = 19.72344923957234\n\n# Ver. 1 - Using % placeholder \n\nprint(\"My favorite number is %.2f!\" % (my_favorite_number))\n\n# Ver. 2 - Using f string\n\nprint(f\"My favorite number is {my_favorite_number:.2f}!\")",
      "metadata": {
        "trusted": true
      },
      "execution_count": 5,
      "outputs": [
        {
          "name": "stdout",
          "text": "My favorite number is 19.72!\nMy favorite number is 19.72!\n",
          "output_type": "stream"
        }
      ]
    },
    {
      "cell_type": "markdown",
      "source": "### #3 - Map Function",
      "metadata": {}
    },
    {
      "cell_type": "code",
      "source": "# Creating a new list with powers of 2 of numbers from original list \n\nnumbers = [14, 23, 8, 12, 2, 5, 90]\n\ndef square(x):\n    return x*x\n\n# Ver. 1 - Using for loop\n\nnew_list_v1 = []\n\nfor i in numbers:\n    new_list_v1.append(square(i))\n    \nprint(new_list_v1)\n\n# Ver. 2 - Using list comprehensions\n\nnew_list_v2 = [square(i) for i in numbers]\n\nprint(new_list_v2)\n\n# Ver. 3 - Using map function\n\nnew_list_v3 = map(square, numbers) # Applies square function to every element of list numbers\n\nprint(list(new_list_v3))",
      "metadata": {
        "trusted": true
      },
      "execution_count": 6,
      "outputs": [
        {
          "name": "stdout",
          "text": "[196, 529, 64, 144, 4, 25, 8100]\n[196, 529, 64, 144, 4, 25, 8100]\n[196, 529, 64, 144, 4, 25, 8100]\n",
          "output_type": "stream"
        }
      ]
    },
    {
      "cell_type": "markdown",
      "source": "### #4 - Ternary Operator",
      "metadata": {}
    },
    {
      "cell_type": "code",
      "source": "# Printing if person is an adult or not\n\nage = 18\n\n# Ver. 1 - Using if statement\n\nif age >= 18:\n    adult = True\nelse:\n    adult = False\n    \nif adult:\n    print(\"You are an adult!\")\nelse:\n    print(\"You are not an adult!\")\n    \n# Ver. 2 - Using Ternary Operator\n\nadult = True if age >= 18 else False\n\nprint(\"You are an adult!\" if adult else \"You are not an adult!\")",
      "metadata": {
        "trusted": true
      },
      "execution_count": 7,
      "outputs": [
        {
          "name": "stdout",
          "text": "You are an adult!\nYou are an adult!\n",
          "output_type": "stream"
        }
      ]
    },
    {
      "cell_type": "code",
      "source": "# Nested Ternary Operators\n\nnumber = 110\n\nprint(\"This number is very large\" if number > 100 else \"This number is large\" if number > 10 else \"This number is positive\" if number > 0 else \"This number is negative\")",
      "metadata": {
        "trusted": true
      },
      "execution_count": 8,
      "outputs": [
        {
          "name": "stdout",
          "text": "This number is very large\n",
          "output_type": "stream"
        }
      ]
    },
    {
      "cell_type": "markdown",
      "source": "### #5 - Lambda Expressions",
      "metadata": {}
    },
    {
      "cell_type": "code",
      "source": "# Lambda with one parameter\n\nmysquare = lambda x: x * x\n\nprint(mysquare(5))\n\n# Lambda with multiple parameters\n\nmysum_v1 = lambda x, y: x + y\n\nprint(mysum_v1(5, 7))\n\n# Lambda with collection of parameters\n\nmysum_v2 = lambda *args: sum(args)\n\nprint(mysum_v2(5, 7, 10))\n\n# Calling lambda directly after defining it\n\nprint((lambda x: x ** 3)(5))",
      "metadata": {
        "trusted": true
      },
      "execution_count": 9,
      "outputs": [
        {
          "name": "stdout",
          "text": "25\n12\n22\n125\n",
          "output_type": "stream"
        }
      ]
    },
    {
      "cell_type": "code",
      "source": "# Creating a new list including only even numbers from original list\n\nnumbers = [8, 66, 12, 14, 15, 7, 99, 109, 88, 76]\n\n# Ver. 1 - Using pre-defined function\n\ndef filter_function(x):\n    return x % 2 == 0\n\neven_numbers_v1 = list(filter(filter_function, numbers))\n\nprint(even_numbers_v1)\n\n# Ver. 2 - Using lambda\n\neven_numbers_v2 = list(filter(lambda x: x % 2 == 0, numbers))\n\nprint(even_numbers_v2)",
      "metadata": {
        "trusted": true
      },
      "execution_count": 10,
      "outputs": [
        {
          "name": "stdout",
          "text": "[8, 66, 12, 14, 88, 76]\n[8, 66, 12, 14, 88, 76]\n",
          "output_type": "stream"
        }
      ]
    },
    {
      "cell_type": "code",
      "source": "# Creating a new list including powers of 2 of numbers from original list\n\nnumbers = [8, 66, 12, 14, 15, 7, 99, 109, 88, 76]\n\n# Ver. 1 - Using lambda with map function\n\nsquared_numbers = list(map(lambda x: x ** 2, numbers))\n\nprint(squared_numbers)",
      "metadata": {
        "trusted": true
      },
      "execution_count": 11,
      "outputs": [
        {
          "name": "stdout",
          "text": "[64, 4356, 144, 196, 225, 49, 9801, 11881, 7744, 5776]\n",
          "output_type": "stream"
        }
      ]
    },
    {
      "cell_type": "code",
      "source": "# Returning lambda in function\n\ndef myfunction(num):\n    return lambda x: x * num # Returning function multiplying input by value num\n\nten_multiplier = myfunction(10) # Creating new function and passing 10 as value for num\n\nprint(ten_multiplier(20))",
      "metadata": {
        "trusted": true
      },
      "execution_count": 12,
      "outputs": [
        {
          "name": "stdout",
          "text": "200\n",
          "output_type": "stream"
        }
      ]
    },
    {
      "cell_type": "markdown",
      "source": "### #6 - Enumeration",
      "metadata": {}
    },
    {
      "cell_type": "code",
      "source": "# Printing indices of the names\n\nmynames = ['John', 'Mike', 'Anna', 'Bob', 'Sara']\n\n# Ver. 1 - Using counter\n\ncounter = 0\n\nfor name in mynames:\n    print(f\"{counter}: {name}\")\n    counter += 1\n\nprint()\n\n# Ver. 2 - Using enumerate in for loop\n\nfor index, name in enumerate(mynames): # Assignes index to all values from the collection\n    print(f\"{index}: {name}\")\n\nprint()\n\n# Ver. 3 - Using enumerate function directly on list\n\nprint(list(enumerate(mynames))) # Creates list of tuples with index and name\n\nprint(dict(enumerate(mynames))) # Creates dictionary with key-value pairs",
      "metadata": {
        "trusted": true
      },
      "execution_count": 13,
      "outputs": [
        {
          "name": "stdout",
          "text": "0: John\n1: Mike\n2: Anna\n3: Bob\n4: Sara\n\n0: John\n1: Mike\n2: Anna\n3: Bob\n4: Sara\n\n[(0, 'John'), (1, 'Mike'), (2, 'Anna'), (3, 'Bob'), (4, 'Sara')]\n{0: 'John', 1: 'Mike', 2: 'Anna', 3: 'Bob', 4: 'Sara'}\n",
          "output_type": "stream"
        }
      ]
    },
    {
      "cell_type": "markdown",
      "source": "### #7 - Any & All Functions",
      "metadata": {}
    },
    {
      "cell_type": "code",
      "source": "# any() - Takes a collection and if one element of that collection returns True, any() returns True\n# all() - Takes a collection and if all elements of that collection returns True, all() returns True\n\nx = [True, True, False, True]\n\nprint(any(x))\nprint(all(x))",
      "metadata": {
        "trusted": true
      },
      "execution_count": 14,
      "outputs": [
        {
          "name": "stdout",
          "text": "True\nFalse\n",
          "output_type": "stream"
        }
      ]
    },
    {
      "cell_type": "code",
      "source": "# Finding if numbers are even using any/all function and list comprehensions\n\nnumbers = [11, 12, 76, 55, 9, 88, 10]\n\neven = lambda x: x % 2 == 0\n\nresult = [even(number) for number in numbers]\n\nif any(result):\n    print(\"At least one number is even!\")\nelse:\n    print(\"No number is even!\")\n    \nif all(result):\n    print(\"All numbers are even!\")",
      "metadata": {
        "trusted": true
      },
      "execution_count": 15,
      "outputs": [
        {
          "name": "stdout",
          "text": "At least one number is even!\n",
          "output_type": "stream"
        }
      ]
    },
    {
      "cell_type": "markdown",
      "source": "### #8 - Reversing Lists",
      "metadata": {}
    },
    {
      "cell_type": "code",
      "source": "# Ver. 1 - Iterating over list\n\nvalues = [1, 2, 3, 4, 5, 6, 7, 8]\nrevlist_v1 = []\n\nfor index in range(len(values)):\n    revlist_v1.append(values[len(values) - index - 1])\n                          \nprint(revlist_v1)\n\n# Ver. 2 - Using reverse() method\n\nvalues = [1, 2, 3, 4, 5, 6, 7, 8]\nvalues.reverse() # Reversing the list\nprint(values)\n\n# Ver. 3 - Using reversed() function\n\nvalues = [1, 2, 3, 4, 5, 6, 7, 8]\nvalues = list(reversed(values)) # Returning reversed list\nprint(values)\n\n# Ver. 4 - Index slicing\n\nvalues = [1, 2, 3, 4, 5, 6, 7, 8]\nvalues = values[::-1] # Returning reversed list\nprint(values)",
      "metadata": {
        "trusted": true
      },
      "execution_count": 16,
      "outputs": [
        {
          "name": "stdout",
          "text": "[8, 7, 6, 5, 4, 3, 2, 1]\n[8, 7, 6, 5, 4, 3, 2, 1]\n[8, 7, 6, 5, 4, 3, 2, 1]\n[8, 7, 6, 5, 4, 3, 2, 1]\n",
          "output_type": "stream"
        }
      ]
    },
    {
      "cell_type": "markdown",
      "source": "### #9 - Join Function",
      "metadata": {}
    },
    {
      "cell_type": "code",
      "source": "words = ['Never', 'gonna', 'give', 'you', 'up']\n\n# Ver. 1 - Using for loop\n\nsentence = \"\"\n\nfor word in words:\n    sentence += word + \" \"\n    \nprint(sentence)\n\n# Ver. 2 - Using join function\n\nsentence = \" \".join(words) # Takes any string and join together collection of passed words with that string\nprint(sentence)",
      "metadata": {
        "trusted": true
      },
      "execution_count": 17,
      "outputs": [
        {
          "name": "stdout",
          "text": "Never gonna give you up \nNever gonna give you up\n",
          "output_type": "stream"
        }
      ]
    },
    {
      "cell_type": "markdown",
      "source": "### #10 - Docstrings",
      "metadata": {}
    },
    {
      "cell_type": "code",
      "source": "def myexpo(num1, num2):\n    '''\n    This function takes one number to the power of another number and returns the result.\n    \n    :param num1: This is the base\n    :param num2: This is the exponent\n    :return: The result of the calculation\n    '''\n    return num1 ** num2\n\nprint(myexpo(8, 2)) # If you are coding in IDE like PyCharm or Visual Studio Code documentation will be displayed while typing\n\n# If you are not coding in IDE but still want to check documentation you can use one of the following methods\n\nprint(help(myexpo)) \nprint(myexpo.__doc__)",
      "metadata": {
        "trusted": true
      },
      "execution_count": 18,
      "outputs": [
        {
          "name": "stdout",
          "text": "64\nHelp on function myexpo in module __main__:\n\nmyexpo(num1, num2)\n    This function takes one number to the power of another number and returns the result.\n    \n    :param num1: This is the base\n    :param num2: This is the exponent\n    :return: The result of the calculation\n\nNone\n\n    This function takes one number to the power of another number and returns the result.\n    \n    :param num1: This is the base\n    :param num2: This is the exponent\n    :return: The result of the calculation\n    \n",
          "output_type": "stream"
        }
      ]
    },
    {
      "cell_type": "markdown",
      "source": "### #11 - Zip Function",
      "metadata": {}
    },
    {
      "cell_type": "code",
      "source": "# Iterating over multiple collections of values at the same time\n\nnames = ['Anna', 'John', 'Bob', 'Mike', 'July']\nages = [17, 22, 88, 34, 53]\n\n# Ver. 1 - Using for loop\n\nfor i in range(len(names)):\n    print(f\"Name: {names[i]}, Age: {ages[i]}\")\n    \nprint()\n\n# Ver. 2 - Using zip function\n\nfor name, age in zip(names, ages):\n    print(f\"Name: {name}, Age: {age}\")\n    \nprint()\nprint(list(zip(names, ages))) # Returning list of tuples",
      "metadata": {
        "trusted": true
      },
      "execution_count": 19,
      "outputs": [
        {
          "name": "stdout",
          "text": "Name: Anna, Age: 17\nName: John, Age: 22\nName: Bob, Age: 88\nName: Mike, Age: 34\nName: July, Age: 53\n\nName: Anna, Age: 17\nName: John, Age: 22\nName: Bob, Age: 88\nName: Mike, Age: 34\nName: July, Age: 53\n\n[('Anna', 17), ('John', 22), ('Bob', 88), ('Mike', 34), ('July', 53)]\n",
          "output_type": "stream"
        }
      ]
    },
    {
      "cell_type": "code",
      "source": "# Calculating the profit for each day\n\nsales = [500, 800, 300, 1200, 600]\ncosts = [200, 600, 200, 100, 800]\n\nfor sale, cost in zip(sales, costs):\n    print(sale-cost)",
      "metadata": {
        "trusted": true
      },
      "execution_count": 20,
      "outputs": [
        {
          "name": "stdout",
          "text": "300\n200\n100\n1100\n-200\n",
          "output_type": "stream"
        }
      ]
    },
    {
      "cell_type": "code",
      "source": "# Using zip() function to unzip the values\n\nzipped = [('Mike', 50), ('Bob', 20), ('Anna', 70), ('John', 35)]\n\nnames, ages = zip(*zipped) # * is a special operator to invert the zip() function\n\nprint(list(names))\nprint(list(ages))",
      "metadata": {
        "trusted": true
      },
      "execution_count": 21,
      "outputs": [
        {
          "name": "stdout",
          "text": "['Mike', 'Bob', 'Anna', 'John']\n[50, 20, 70, 35]\n",
          "output_type": "stream"
        }
      ]
    },
    {
      "cell_type": "code",
      "source": "# Sorting two interconnected lists\n\nletters = ['b', 'd', 'a', 'c']\nnumbers = [3, 2, 4, 1]\n\ndata = sorted(zip(letters, numbers))\n\nprint(data)\n\nletters, numbers = zip(*data)\n\nprint(letters)\nprint(numbers)",
      "metadata": {
        "trusted": true
      },
      "execution_count": 22,
      "outputs": [
        {
          "name": "stdout",
          "text": "[('a', 4), ('b', 3), ('c', 1), ('d', 2)]\n('a', 'b', 'c', 'd')\n(4, 3, 1, 2)\n",
          "output_type": "stream"
        }
      ]
    },
    {
      "cell_type": "code",
      "source": "# Creating dictionary from two different lists\n\nletters = ['b', 'd', 'a', 'c']\nnumbers = [3, 2, 4, 1]\n\nmydict = dict(zip(letters, numbers))\nprint(mydict)",
      "metadata": {
        "trusted": true
      },
      "execution_count": 23,
      "outputs": [
        {
          "name": "stdout",
          "text": "{'b': 3, 'd': 2, 'a': 4, 'c': 1}\n",
          "output_type": "stream"
        }
      ]
    },
    {
      "cell_type": "markdown",
      "source": "### #12 - Swapping Variables",
      "metadata": {}
    },
    {
      "cell_type": "code",
      "source": "a = 10\nb = 20\n\n# Ver. 1 \n\na, b = b, a\nprint(a, b)\n\n# Ver. 2 - Using XOR bitwise operator\n\na = 24\nb = 41\n\n'''\n24 = 011000 -> a\n41 = 101001 -> b\n     110001 -> MASK -> a\n'''\n\na = a ^ b\nb = b ^ a\na = a ^ b\n\nprint(a, b)",
      "metadata": {
        "trusted": true
      },
      "execution_count": 24,
      "outputs": [
        {
          "name": "stdout",
          "text": "20 10\n41 24\n",
          "output_type": "stream"
        }
      ]
    },
    {
      "cell_type": "markdown",
      "source": "### #13 - Merging Dictionaries",
      "metadata": {}
    },
    {
      "cell_type": "code",
      "source": "dict1 = {'a': 1, 'b': 7}\ndict2 = {'b': 4, 'c': 8}\n\n# Ver. 1 - Using keywords arguments operator **\n\ndict3 = {**dict1, **dict2} # Passes key-values pairs and creates new dictionary\nprint(dict3)\n\n# Ver. 2 - Using .update() method\n\ndict1.update(dict2) # Updates dictionaries\nprint(dict1)\n\n# Ver. 3 - Using merging operator (Only available in Python 3.9 and above!)\n\n#dict4 = dict1 | dict2\n#print(dict4)\n\n# Ver. 4 - Using update operator (Only available in Python 3.9 and above!)\n\n#dict5 = dict1 |= dict2\n#print(dict5)\n\n# Ver. 5 - Using merging operator (In older versions of Python)\n\ndict6 = dict(dict1.items() | dict2.items()) # Assigns random value in case there are multilpe same keys\nprint(dict6)",
      "metadata": {
        "trusted": true
      },
      "execution_count": 25,
      "outputs": [
        {
          "name": "stdout",
          "text": "{'a': 1, 'b': 4, 'c': 8}\n{'a': 1, 'b': 4, 'c': 8}\n{'b': 4, 'c': 8, 'a': 1}\n",
          "output_type": "stream"
        }
      ]
    },
    {
      "cell_type": "markdown",
      "source": "### #14 - Slice Function",
      "metadata": {}
    },
    {
      "cell_type": "code",
      "source": "numbers = [10, 90, 20, 55, 65, 70, 5, 15, 85]\n\nprint(numbers[3])\nprint(numbers[3:])\nprint(numbers[:3])\nprint(numbers[3:6])\nprint(numbers[:-2])\n\n'''\nslice(start, end, step)\nstart - Optional. An integer number specifying at which position to start the slicing. Default is 0\nend - An integer number specifying at which position to end the slicing\nstep - Optional. An integer number specifying the step of the slicing. Default is 1\n'''\n\nlast_four = slice(-4, None) \nprint(numbers[last_four])\n\nfirst_four = slice(4)\nprint(numbers[first_four])\n\nevery_other = slice(0, None, 2)\nprint(numbers[every_other])\n\nmytext = \"Hello World! How are you?\"\nprint(mytext[every_other])",
      "metadata": {
        "trusted": true
      },
      "execution_count": 26,
      "outputs": [
        {
          "name": "stdout",
          "text": "55\n[55, 65, 70, 5, 15, 85]\n[10, 90, 20]\n[55, 65, 70]\n[10, 90, 20, 55, 65, 70, 5]\n[70, 5, 15, 85]\n[10, 90, 20, 55]\n[10, 20, 65, 5, 85]\nHloWrd o r o?\n",
          "output_type": "stream"
        }
      ]
    },
    {
      "cell_type": "markdown",
      "source": "### #15 - Most Frequent Value of a List",
      "metadata": {}
    },
    {
      "cell_type": "code",
      "source": "mylist = [1, 2, 3, 4, 1, 2, 1, 1, 2, 3, 2, 2, 4, 2, 3, 2, 1, 2, 2, 2, 1, 1, 3, 4]\n\n# Ver. 1 - For loop and additional variables\n\ncurrent_max = 0\ncurrent_val = None\nfor x in mylist:\n    if mylist.count(x) > current_max:\n        current_max = mylist.count(x)\n        current_val = x\n        \nprint(f\"Value: {current_val}, Occurrences: {current_max}\")\nprint()\n\n# Ver. 2 - Counter class\n\nfrom collections import Counter\n\ncounter = Counter(mylist)\nprint(counter.most_common(1)) # Returns list of tuples\nprint(counter.most_common(1)[0]) # Returns tuple with most common value and amount of occurrances\nprint(counter.most_common(1)[0][0]) # Returns most common value\n\nx = counter.most_common(1)[0]\nprint(f\"Value: {x[0]}, Occurrences: {x[1]}\")\nprint()\n\n# Ver. 3 - Using max() function\n\nmost_frequent = max(set(mylist), key=mylist.count)\nfrequency = mylist.count(most_frequent)\n\n'''\nmax() function returns the item with the highest value\nset() in this example serves to remove duplicates from list\nin key parameter we are specifying to count the occurrances in the original list\n'''\n\nprint(f\"Value: {most_frequent}, Occurrences: {frequency}\")",
      "metadata": {
        "trusted": true
      },
      "execution_count": 27,
      "outputs": [
        {
          "name": "stdout",
          "text": "Value: 2, Occurrences: 10\n\n[(2, 10)]\n(2, 10)\n2\nValue: 2, Occurrences: 10\n\nValue: 2, Occurrences: 10\n",
          "output_type": "stream"
        }
      ]
    },
    {
      "cell_type": "markdown",
      "source": "### #16 - Amount of Digits in a Number",
      "metadata": {}
    },
    {
      "cell_type": "code",
      "source": "number = 1923347655123\nnumber1 = 9999999999999999997 # Computers cannot represent floating number accurately, so it's rounding up to next number and we are getting one extra digit when using logarithmic function\n\n# Ver. 1 - Type casting into string and using len() function\n\ndigit_amount = len(str(number)) # If the number is negative, need to subtract 1 to accommodate for - sign\nprint(digit_amount)\n\n# Ver. 2 - Using logarithmic function\n\nimport math\n\nif number > 0: # Need to add explicit checks because you cannot use logarithmic function with 0 or negative numbers\n    print(int(math.log10(number))+1) \nelif number < 0:\n    print(int(math.log10(-number))+1)\nelse:\n    print(1) # 0 is 1 digit\n    \n# Ver. 3 - Using counter variable and while loop\n\ncounter = 1\nwhile abs(number) >= (10 ** counter):\n    counter += 1\n    \nprint(counter)",
      "metadata": {
        "trusted": true
      },
      "execution_count": 28,
      "outputs": [
        {
          "name": "stdout",
          "text": "13\n13\n13\n",
          "output_type": "stream"
        }
      ]
    },
    {
      "cell_type": "markdown",
      "source": "### #17 - Deleting entry from a dictionary",
      "metadata": {}
    },
    {
      "cell_type": "code",
      "source": "# Ver. 1 - Using del function\n\nmy_dictionary_v1 = {0: \"dog\", 1: \"cat\", 2: \"bird\", 3: \"ferret\", 4: \"parrot\", 5: \"turtle\"}\n\ndel my_dictionary_v1[2] # Will raise a KeyError if there is no such key in dictionary\n\nif 2 in my_dictionary_v1: # Need to add explicit check before deleting value\n    del my_dictionary_v1[2]\n    \nprint(my_dictionary_v1)\n\n# Ver. 2 - Using pop method - The pop() method removes and returns an element from a dictionary having the given key.\n\nmy_dictionary_v2 = {0: \"dog\", 1: \"cat\", 2: \"bird\", 3: \"ferret\", 4: \"parrot\", 5: \"turtle\"}\n\n'''\npop() method takes two parameters:\nkey - key which is to be searched for removal\ndefault - value which is to be returned when the key is not in the dictionary\n'''\n\nanimal = my_dictionary_v2.pop(2, None)\n\nprint(animal)\nprint(my_dictionary_v2)",
      "metadata": {
        "trusted": true
      },
      "execution_count": 29,
      "outputs": [
        {
          "name": "stdout",
          "text": "{0: 'dog', 1: 'cat', 3: 'ferret', 4: 'parrot', 5: 'turtle'}\nbird\n{0: 'dog', 1: 'cat', 3: 'ferret', 4: 'parrot', 5: 'turtle'}\n",
          "output_type": "stream"
        }
      ]
    }
  ]
}