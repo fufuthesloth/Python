{
  "metadata": {
    "language_info": {
      "codemirror_mode": {
        "name": "python",
        "version": 3
      },
      "file_extension": ".py",
      "mimetype": "text/x-python",
      "name": "python",
      "nbconvert_exporter": "python",
      "pygments_lexer": "ipython3",
      "version": "3.8"
    },
    "kernelspec": {
      "name": "python",
      "display_name": "Python (Pyodide)",
      "language": "python"
    }
  },
  "nbformat_minor": 4,
  "nbformat": 4,
  "cells": [
    {
      "cell_type": "markdown",
      "source": "# Python Algorithms",
      "metadata": {}
    },
    {
      "cell_type": "markdown",
      "source": "### #1 - Bubble Sort",
      "metadata": {}
    },
    {
      "cell_type": "code",
      "source": "def sort_with_bubbles(lst):\n    \n    #Set swap_occurred to True to guarantee the loop runs once\n    swap_occurred = True\n\n    #Run the loop as long as a swap occurred the previous time\n    while swap_occurred:\n\n        #Start off assuming a swap did not occur\n        swap_occurred = False\n\n        #For every item in the list except the last one...\n        for i in range(len(lst) - 1):\n\n            #If the item should swap with the next item...\n            if lst[i] > lst[i + 1]:\n\n                #Then, swap them! But these lines aren't quite right: fix this code!\n                temp = lst[i]\n                lst[i] = lst[i + 1]\n                lst[i + 1] = temp\n\n                #One more line is needed here; add it!\n                swap_occurred = True\n    return lst\n\nprint(sort_with_bubbles([5, 3, 1, 2, 4]))",
      "metadata": {
        "trusted": true
      },
      "execution_count": null,
      "outputs": []
    },
    {
      "cell_type": "markdown",
      "source": "### #2 - Factorial",
      "metadata": {}
    },
    {
      "cell_type": "code",
      "source": "def factorial(n):\n    \n    #What do we want to do inside the function? Well, there\n    #are two cases. First, if n is 1, we just want to return\n    #1. After all, 1! is 1.\n\n    if n == 1:\n        return 1\n\n    #What if n doesn't equal 1, though? Then we want to\n    #return n times the factorial of (n - 1). After all,\n    #5! = 5 * 4!, 4! = 4 * 3!, etc.\n\n    else:\n        return n * factorial(n - 1)\n\n    #If n is greater than 1, then it multiplies 1 by the\n    #factorial of n - 1, as calculated with the same\n    #function. Every time factorial() runs, n decreases\n    #by 1, which guarantees that eventually, n will equal\n    #1.\n\nprint(\"5! is\", factorial(5))\nprint(\"10! is\", factorial(10))",
      "metadata": {
        "trusted": true
      },
      "execution_count": null,
      "outputs": []
    },
    {
      "cell_type": "markdown",
      "source": "### #3 - Fibonacci",
      "metadata": {}
    },
    {
      "cell_type": "code",
      "source": "def fib(n):\n    \n    #What do we want to do inside the function? Once again,\n    #there are really only two cases: either we're looking\n    #for the first two Fibonacci numbers, or we're not.\n    #What happens if we're looking for the first two? Well,\n    #we already know that the 1st and 2nd Fibonacci numbers\n    #are both 1, so if n == 1 or n == 2, we can go ahead\n    #and return 1.\n\n    if n == 1 or n == 2:\n        return 1\n\n    #What if n doesn't equal 1? For any value for n greater\n    #than 2, the result should be the sum of the previous\n    #two numbers. The previous Fibonacci number could then\n    #be calculated with the same kind of function call,\n    #decrementing n by 1 or 2.\n\n    else:\n        return fib(n - 1) + fib(n - 2)\n\n    #If n is greater than 2, then it returns the sum of the\n    #previous two fibonacci numbers, as calculated by the\n    #same function.\n\nprint(\"fib(5) is\", fib(5))\nprint(\"fib(10) is\", fib(10))",
      "metadata": {
        "trusted": true
      },
      "execution_count": null,
      "outputs": []
    },
    {
      "cell_type": "markdown",
      "source": "### #4 - Insertion Sort",
      "metadata": {}
    },
    {
      "cell_type": "code",
      "source": "def insertion(a_list):\n    \n    for index in range(len(a_list)):\n        currentValue = a_list[index]\n        currentPosition = index\n        while currentPosition > 0 and a_list[currentPosition - 1] > currentValue:\n            a_list[currentPosition] = a_list[currentPosition -1]\n            currentPosition = currentPosition - 1\n        a_list[currentPosition] = currentValue\n    return a_list\n\nprint(insertion([5, 1, 3, 2, 4]))",
      "metadata": {
        "trusted": true
      },
      "execution_count": null,
      "outputs": []
    },
    {
      "cell_type": "markdown",
      "source": "### #5 - Linear Search",
      "metadata": {}
    },
    {
      "cell_type": "code",
      "source": "def linear(a_list, string):\n    for i in range(len(a_list)):\n        if a_list[i] == string:\n            return i\n    return False\n\na_list = [5, 1, 3, 6, 7, 3, 1, 6, 7, 8, 3, 6]\nprint(linear(a_list, 6))",
      "metadata": {
        "trusted": true
      },
      "execution_count": null,
      "outputs": []
    },
    {
      "cell_type": "markdown",
      "source": "### #6 - Looping Binary Search",
      "metadata": {}
    },
    {
      "cell_type": "code",
      "source": "#Let's implement a binary search using a loop! For now,\n#our search will just return True if the item is found,\n#False if it's not.\n\n#Like our linear search, our binary search needs to\n#parameters: a list to search, and an item to search for.\n\ndef binary_search(searchList, searchTerm):\n\n    #First, the list must be sorted.\n    searchList.sort()\n\n    #Now, each iteration of the loop, we want to narrow\n    #down the part of the list to look at. So, we need to\n    #keep track of the range we've narrowed down to so\n    #far. Initially, that will be the entire list, from\n    #the first index to the last.\n\n    min = 0\n    max = len(searchList) - 1\n\n    #Now, we want to loop as long as our range has any\n    #numbers left to investigate. As long as there is\n    #more than one number between minimum and maximum,\n    #we're not done searching.\n\n    while min <= max:\n\n        #We want to check the middle item of the\n        #current range, which is the average of the\n        #current minimum and maximum index. For\n        #example, if min was 5 and max was 15, our\n        #middle number would be at index 5. We'll\n        #use floor division because indices must be\n        #integers.\n        \n        currentMiddle = (min + max) // 2\n\n        #If the term in the middle is the term we're\n        #looking for, we're done!\n        \n        if searchList[currentMiddle] == searchTerm:\n            return True\n\n        #If not, we want to check if the term we're\n        #looking for should come earlier or later.\n\n        #If the term we're looking for is less than\n        #the current middle, then search the first\n        #half of the list:\n        \n        elif searchTerm < searchList[currentMiddle]:\n            max = currentMiddle - 1\n\n        #If the term we're looking for is greater\n        #than the current middle, search the second\n        #half of the list:\n        \n        else:\n            min = currentMiddle + 1\n\n        #Each iteration of the loop, one of three\n        #things happens: the term is found, max\n        #shrinks, or min grows. Eventually, either\n        #the term will be found, or min will be\n        #equal to max.\n\n    #If the search term was found, this line will\n    #never be reached because the return statement\n    #will end the function. So, if we get this\n    #far, then the search term was not found, and\n    #we can return False.\n    \n    return False\n\n#Let's try it out!\n\nintlist = [12, 64, 23, 3, 57, 19, 1, 17, 51, 62]\nprint(\"23 is in intlist:\", binary_search(intlist, 23))\nprint(\"50 is in intlist:\", binary_search(intlist, 50))\n\n#Want to see something else interesting? Because of\n#the way Python handles types, this exact same\n#function works for any sortable data type. Check\n#it out with strings:\n\nstrlist = [\"David\", \"Joshua\", \"Marguerite\", \"Jackie\"]\nprint(\"David is in strlist:\", binary_search(strlist, \"David\"))\nprint(\"Lucy is in strlist:\", binary_search(strlist, \"Lucy\"))\n\n#Or with dates!\n\nfrom datetime import date\ndatelist = [date(1885, 10, 13), date(2014, 11, 29), date(2016, 11, 26)]\nprint(\"10/13/1885 is in datelist:\", binary_search(datelist, date(1885, 10, 13)))\nprint(\"11/28/2015 is in datelist:\", binary_search(datelist, date(2015, 11, 28)))",
      "metadata": {
        "trusted": true
      },
      "execution_count": null,
      "outputs": []
    },
    {
      "cell_type": "markdown",
      "source": "### #7 - Merge Sort",
      "metadata": {}
    },
    {
      "cell_type": "code",
      "source": "#Let's implement Mergesort! This is a complex problem\n#because it applies recursion to sorting algorithms, but\n#it's also by far the most efficient sorting algorithm we'll\n#cover.\n\n#First, we need a function definition: MergeSort should take\n#as input one list.\n\ndef mergesort(lst):\n\n    #Then, what does it do? mergesort should recursively\n    #run mergesort on the left and right sides of lst until\n    #it's given a list only one item. So, if lst has only\n    #one item, we should just return that one-item list.\n\n    if len(lst) <= 1:\n        return lst\n\n    #Otherwise, we should call mergesort separately on the\n    #left and right sides. Since each successive call to\n    #mergesort sends half as many items, we're guaranteed\n    #to eventually send it a list with only one item, at\n    #which point we'll stop calling mergesort again.\n    \n    else:\n\n        #Floor division on the length of the list will\n        #find us the index of the middle value.\n        \n        midpoint = len(lst) // 2\n\n        #lst[:midpoint] will get the left side of the\n        #list based on list slicing syntax. So, we want\n        #to sort the left side of the list alone and\n        #assign the result to the new smaller list left.\n        \n        left = mergesort(lst[:midpoint])\n\n        #And same for the right side.\n        \n        right = mergesort(lst[midpoint:])\n\n        #So, left and right now hold sorted lists of\n        #each half of the original list. They might\n        #each have only one item, or they could each\n        #have several items.\n\n        #Now we want to compare the first items in each\n        #list one-by-one, adding the smaller to our new\n        #result list until one list is completely empty.\n\n        newlist = []\n        while len(left) and len(right) > 0:\n\n            #If the first number in left is lower, add\n            #it to the new list and remove it from left\n            \n            if left[0] < right[0]:\n                newlist.append(left[0])\n                del left[0]\n\n            #Otherwise, add the first number from right\n            #to the new list and remove it from right\n            \n            else:\n                newlist.append(right[0])\n                del right[0]\n\n        #When the while loop above is done, it means\n        #one of the two lists is empty. Because both\n        #lists were sorted, we can now add the remainder\n        #of each list to the new list. The empty list\n        #will have no items to add, and the non-empty\n        #list will add its items in order.\n\n        newlist.extend(left)\n        newlist.extend(right)\n\n        #newlist is now the sorted version of lst! So,\n        #we can return it. If this was a recursive call\n        #to mergesort, then this sends a sorted half-\n        #list up the ladder. If this was the original\n        #call, then this is the final sorted list.\n\n        return newlist\n\n#Let's try it out!\n\nprint(mergesort([2, 5, 3, 8, 6, 9, 1, 4, 7]))",
      "metadata": {
        "trusted": true
      },
      "execution_count": null,
      "outputs": []
    },
    {
      "cell_type": "markdown",
      "source": "### #8 - Recursive Binary Search",
      "metadata": {}
    },
    {
      "cell_type": "code",
      "source": "#Let's implement a binary search using recursion! For now,\n#our search will just return True if the item is found,\n#False if it's not.\n\n#Like our linear search, our binary search needs to\n#parameters: a list to search, and an item to search for.\n\ndef binary_search(searchList, searchTerm):\n\n    #First, the list must be sorted.\n    \n    searchList.sort()\n\n    #With each recursive call to binary_search, the size\n    #of the list will be cut in half, rounding down. If\n    #the search term is not found, then eventually an\n    #empty list will be passed into binary_search. So,\n    #if searchList is empty, we know that the search\n    #term was not found, and we can return False. This\n    #is the base case for the recursive binary_search.\n\n    if len(searchList) == 0:\n        return False\n\n    #If there are still items in the list, then we want\n    #to find if searchTerm is greater than, less than,\n    #or equal to the middle term in the list. For that,\n    #we need the index of the middle term.\n\n    middle = len(searchList) // 2\n\n    #First, the easy case: if it's the middle term, we\n    #found it! Return True.\n    \n    if searchList[middle] == searchTerm:\n        return True\n\n    #If the search term is less than the middle term,\n    #then repeat the search on the left half of the\n    #list.\n    \n    elif searchTerm < searchList[middle]:\n        return binary_search(searchList[:middle], searchTerm)\n\n    #If the search term is greater than the middle\n    #term, then repeat the search on the right half\n    #of the list.\n    \n    else:\n        return binary_search(searchList[middle + 1:], searchTerm)\n\n    #As long as there are items to be searched, binary_search\n    #will keep getting called on smaller and smaller lists,\n    #until eventually the item is found or the list of possible\n    #places it could be found is empty.\n\n\n#Let's try it out!\n\nintlist = [12, 64, 23, 3, 57, 19, 1, 17, 51, 62]\nprint(\"23 is in intlist:\", binary_search(intlist, 23))\nprint(\"50 is in intlist:\", binary_search(intlist, 50))\n\n#Want to see something else interesting? Because of\n#the way Python handles types, this exact same\n#function works for any sortable data type. Check\n#it out with strings:\n\nstrlist = [\"David\", \"Joshua\", \"Marguerite\", \"Jackie\"]\nprint(\"David is in strlist:\", binary_search(strlist, \"David\"))\nprint(\"Lucy is in strlist:\", binary_search(strlist, \"Lucy\"))\n\n#Or with dates!\n\nfrom datetime import date\ndatelist = [date(1885, 10, 13), date(2014, 11, 29), date(2016, 11, 26)]\nprint(\"10/13/1885 is in datelist:\", binary_search(datelist, date(1885, 10, 13)))\nprint(\"11/28/2015 is in datelist:\", binary_search(datelist, date(2015, 11, 28)))",
      "metadata": {
        "trusted": true
      },
      "execution_count": null,
      "outputs": []
    },
    {
      "cell_type": "markdown",
      "source": "### #9 - Selection Sort",
      "metadata": {}
    },
    {
      "cell_type": "code",
      "source": "#We've written the function, sort_with_select, below. It takes\n#in one list parameter, a_list. Our version of selection sort\n#involves finding the minimum value and moving it to an\n#earlier spot in the list.\n#\n#However, some lines of code are blank. Complete these lines\n#to complete the selection_sort function. You should only need\n#to modify the section marked 'Write your code here!'\n\ndef sort_with_select(a_list):\n\n    #For each index in the list...\n    for i in range(len(a_list)):\n\n        #Assume first that current item is already correct...\n        minIndex = i\n\n        #For each index from i to the end...\n        for j in range(i + 1, len(a_list)):\n\n            #Complete the reasoning of this conditional to\n            #complete the algorithm! Remember, the goal is\n            #to find the lowest item in the list between\n            #index i and the end of the list, and store its\n            #index in the variable minIndex.\n            #\n            #Write your code here!\n            if a_list[j] < a_list[minIndex]:\n                minIndex = j\n\n        #Save the current minimum value since we're about\n        #to delete it\n        minValue = a_list[minIndex]\n\n        #Delete the minimum value from its current index\n        del a_list[minIndex]\n\n        #Insert the minimum value at its new index\n        a_list.insert(i, minValue)\n\n    #Return the resultant list\n    return a_list\n\n#Below are some lines of code that will test your function.\n#You can change the value of the variable(s) to test your\n#function with different inputs.\n#\n#If your function works correctly, this will originally\n#print: [1, 2, 3, 4, 5]\n\nprint(sort_with_select([5, 3, 1, 2, 4]))",
      "metadata": {
        "trusted": true
      },
      "execution_count": null,
      "outputs": []
    }
  ]
}